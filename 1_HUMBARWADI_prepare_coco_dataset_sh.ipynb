{
  "nbformat": 4,
  "nbformat_minor": 0,
  "metadata": {
    "colab": {
      "provenance": [],
      "authorship_tag": "ABX9TyOx09qJUxTmi5wEvPhFumCF",
      "include_colab_link": true
    },
    "kernelspec": {
      "name": "python3",
      "display_name": "Python 3"
    },
    "language_info": {
      "name": "python"
    }
  },
  "cells": [
    {
      "cell_type": "markdown",
      "metadata": {
        "id": "view-in-github",
        "colab_type": "text"
      },
      "source": [
        "<a href=\"https://colab.research.google.com/github/allansdefreitas/retinanet-tensorflow2.x/blob/master/1_HUMBARWADI_prepare_coco_dataset_sh.ipynb\" target=\"_parent\"><img src=\"https://colab.research.google.com/assets/colab-badge.svg\" alt=\"Open In Colab\"/></a>"
      ]
    },
    {
      "cell_type": "code",
      "source": [
        "%%bash\n",
        "sudo apt install aria2 -y"
      ],
      "metadata": {
        "id": "S5iSDeDVLy_R"
      },
      "execution_count": null,
      "outputs": []
    },
    {
      "cell_type": "code",
      "execution_count": 3,
      "metadata": {
        "colab": {
          "base_uri": "https://localhost:8080/"
        },
        "id": "bMMfpV63LdJV",
        "outputId": "335b9be7-7260-4d26-add3-111dff9ad9d9"
      },
      "outputs": [
        {
          "output_type": "stream",
          "name": "stdout",
          "text": [
            "\n",
            "09/21 00:41:54 [\u001b[1;32mNOTICE\u001b[0m] Downloading 1 item(s)\n",
            " *** Download Progress Summary as of Thu Sep 21 00:42:55 2023 *** \n",
            "=\n",
            "[#f8cf0b 2.4GiB/18GiB(13%) CN:1 DL:39MiB ETA:6m45s]\n",
            "FILE: /content/train2017.zip\n",
            "-\n",
            "\n",
            " *** Download Progress Summary as of Thu Sep 21 00:43:56 2023 *** \n",
            "=\n",
            "[#f8cf0b 5.5GiB/18GiB(30%) CN:1 DL:47MiB ETA:4m27s]\n",
            "FILE: /content/train2017.zip\n",
            "-\n",
            "\n",
            " *** Download Progress Summary as of Thu Sep 21 00:44:56 2023 *** \n",
            "=\n",
            "[#f8cf0b 9.0GiB/18GiB(50%) CN:1 DL:80MiB ETA:1m54s]\n",
            "FILE: /content/train2017.zip\n",
            "-\n",
            "\n",
            " *** Download Progress Summary as of Thu Sep 21 00:45:57 2023 *** \n",
            "=\n",
            "[#f8cf0b 12GiB/18GiB(70%) CN:1 DL:45MiB ETA:2m]\n",
            "FILE: /content/train2017.zip\n",
            "-\n",
            "\n",
            " *** Download Progress Summary as of Thu Sep 21 00:46:57 2023 *** \n",
            "=\n",
            "[#f8cf0b 15GiB/18GiB(86%) CN:1 DL:51MiB ETA:48s]\n",
            "FILE: /content/train2017.zip\n",
            "-\n",
            "\n",
            "\u001b[0m\n",
            "09/21 00:47:46 [\u001b[1;32mNOTICE\u001b[0m] Download complete: /content/train2017.zip\n",
            "\n",
            "Download Results:\n",
            "gid   |stat|avg speed  |path/URI\n",
            "======+====+===========+=======================================================\n",
            "f8cf0b|\u001b[1;32mOK\u001b[0m  |    52MiB/s|/content/train2017.zip\n",
            "\n",
            "Status Legend:\n",
            "(OK):download completed.\n"
          ]
        }
      ],
      "source": [
        "!aria2c -j 48 -Z http://images.cocodataset.org/zips/train2017.zip"
      ]
    },
    {
      "cell_type": "code",
      "source": [
        "%%bash\n",
        "\n",
        "unzip /content/train2017.zip"
      ],
      "metadata": {
        "colab": {
          "base_uri": "https://localhost:8080/"
        },
        "id": "8tSwCXyqOxVn",
        "outputId": "1efcc37e-887e-40ba-ad22-03b2d69fc3d8"
      },
      "execution_count": 4,
      "outputs": [
        {
          "output_type": "stream",
          "name": "stderr",
          "text": [
            "IOPub data rate exceeded.\n",
            "The notebook server will temporarily stop sending output\n",
            "to the client in order to avoid crashing it.\n",
            "To change this limit, set the config variable\n",
            "`--NotebookApp.iopub_data_rate_limit`.\n",
            "\n",
            "Current values:\n",
            "NotebookApp.iopub_data_rate_limit=1000000.0 (bytes/sec)\n",
            "NotebookApp.rate_limit_window=3.0 (secs)\n",
            "\n"
          ]
        }
      ]
    },
    {
      "cell_type": "code",
      "source": [
        "!ls /content/train2017"
      ],
      "metadata": {
        "id": "IF4Md9NBO1rx"
      },
      "execution_count": null,
      "outputs": []
    },
    {
      "cell_type": "code",
      "source": [
        "%%bash\n",
        "aria2c -j 48 -Z http://images.cocodataset.org/annotations/annotations_trainval2017.zip"
      ],
      "metadata": {
        "colab": {
          "base_uri": "https://localhost:8080/"
        },
        "id": "vKs9YabQTf9d",
        "outputId": "a9e5c8b6-6645-4464-ab3d-9672cbbe0318"
      },
      "execution_count": 6,
      "outputs": [
        {
          "output_type": "stream",
          "name": "stdout",
          "text": [
            "\n",
            "09/21 01:15:21 [\u001b[1;32mNOTICE\u001b[0m] Downloading 1 item(s)\n",
            "[#402853 71MiB/241MiB(29%) CN:1 DL:86MiB ETA:1s]\n",
            "[#402853 179MiB/241MiB(74%) CN:1 DL:99MiB]\n",
            "\n",
            "09/21 01:15:24 [\u001b[1;32mNOTICE\u001b[0m] Download complete: /content/annotations_trainval2017.zip\n",
            "\n",
            "Download Results:\n",
            "gid   |stat|avg speed  |path/URI\n",
            "======+====+===========+=======================================================\n",
            "402853|OK  |    97MiB/s|/content/annotations_trainval2017.zip\n",
            "\n",
            "Status Legend:\n",
            "(OK):download completed.\n"
          ]
        }
      ]
    },
    {
      "cell_type": "code",
      "source": [
        "%%bash\n",
        "unzip /content/annotations_trainval2017.zip"
      ],
      "metadata": {
        "colab": {
          "base_uri": "https://localhost:8080/"
        },
        "id": "w9ZsAZHxTkrL",
        "outputId": "e901d3ee-c1fa-4585-85e6-22fc7b174d76"
      },
      "execution_count": 7,
      "outputs": [
        {
          "output_type": "stream",
          "name": "stdout",
          "text": [
            "Archive:  /content/annotations_trainval2017.zip\n",
            "  inflating: annotations/instances_train2017.json  \n",
            "  inflating: annotations/instances_val2017.json  \n",
            "  inflating: annotations/captions_train2017.json  \n",
            "  inflating: annotations/captions_val2017.json  \n",
            "  inflating: annotations/person_keypoints_train2017.json  \n",
            "  inflating: annotations/person_keypoints_val2017.json  \n"
          ]
        }
      ]
    },
    {
      "cell_type": "code",
      "source": [],
      "metadata": {
        "id": "PMRCrOlATqu_"
      },
      "execution_count": null,
      "outputs": []
    }
  ]
}