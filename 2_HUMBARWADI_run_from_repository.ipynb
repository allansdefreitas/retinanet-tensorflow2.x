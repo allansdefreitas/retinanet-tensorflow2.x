{
  "nbformat": 4,
  "nbformat_minor": 0,
  "metadata": {
    "colab": {
      "provenance": [],
      "gpuType": "T4",
      "authorship_tag": "ABX9TyMgtg8Qc34wl0AlPflpUZOc",
      "include_colab_link": true
    },
    "kernelspec": {
      "name": "python3",
      "display_name": "Python 3"
    },
    "language_info": {
      "name": "python"
    },
    "accelerator": "GPU"
  },
  "cells": [
    {
      "cell_type": "markdown",
      "metadata": {
        "id": "view-in-github",
        "colab_type": "text"
      },
      "source": [
        "<a href=\"https://colab.research.google.com/github/allansdefreitas/retinanet-tensorflow2.x/blob/master/2_HUMBARWADI_run_from_repository.ipynb\" target=\"_parent\"><img src=\"https://colab.research.google.com/assets/colab-badge.svg\" alt=\"Open In Colab\"/></a>"
      ]
    },
    {
      "cell_type": "code",
      "source": [
        "\"\"\"\n",
        "DIARY\n",
        "\n",
        "\n",
        "Vamos ver em que momento os dados passam do formato COCO (em que são baixados),\n",
        "para o formato específico.\n",
        "\n",
        "Espera-se que esse ponto seja localizado e daí possa-se usar um pequeno exemplo\n",
        "de EGGS no formato COCO para transformar no formato específico\n",
        "-Allan, casa, 20/09/23, 22h50\n",
        "\n",
        "\n",
        "\"\"\""
      ],
      "metadata": {
        "id": "WWK8eThJaxJn"
      },
      "execution_count": null,
      "outputs": []
    },
    {
      "cell_type": "code",
      "execution_count": 1,
      "metadata": {
        "colab": {
          "base_uri": "https://localhost:8080/"
        },
        "id": "p4mkpoaPYIXx",
        "outputId": "4faec88e-d5be-4bbf-8dcc-87963d238098"
      },
      "outputs": [
        {
          "output_type": "stream",
          "name": "stderr",
          "text": [
            "Cloning into 'retinanet-tensorflow2.x'...\n"
          ]
        }
      ],
      "source": [
        "%%bash\n",
        "git clone https://github.com/allansdefreitas/retinanet-tensorflow2.x"
      ]
    },
    {
      "cell_type": "code",
      "source": [
        "#cd \"retinanet-tensorflow2.x\""
      ],
      "metadata": {
        "colab": {
          "base_uri": "https://localhost:8080/"
        },
        "id": "g8JudGcyYcvc",
        "outputId": "1db5c583-5302-487e-9bdc-3096530a48ed"
      },
      "execution_count": 7,
      "outputs": [
        {
          "output_type": "stream",
          "name": "stdout",
          "text": [
            "/content/retinanet-tensorflow2.x\n"
          ]
        }
      ]
    },
    {
      "cell_type": "code",
      "source": [
        "!retinanet-tensorflow2.x/prepare_coco_dataset.sh"
      ],
      "metadata": {
        "colab": {
          "base_uri": "https://localhost:8080/"
        },
        "id": "gabhZYBYYtvr",
        "outputId": "36bb9486-4cae-4448-d33f-00e8d2ae3908"
      },
      "execution_count": 8,
      "outputs": [
        {
          "output_type": "stream",
          "name": "stdout",
          "text": [
            "/bin/bash: line 1: retinanet-tensorflow2.x/prepare_coco_dataset.sh: No such file or directory\n"
          ]
        }
      ]
    },
    {
      "cell_type": "code",
      "source": [],
      "metadata": {
        "id": "PQb6tTRoYzxA"
      },
      "execution_count": null,
      "outputs": []
    },
    {
      "cell_type": "code",
      "source": [],
      "metadata": {
        "id": "kd-OMubDYYB4"
      },
      "execution_count": null,
      "outputs": []
    }
  ]
}