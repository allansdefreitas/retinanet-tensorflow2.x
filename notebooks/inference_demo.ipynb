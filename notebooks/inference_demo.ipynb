{
 "cells": [
  {
   "cell_type": "code",
   "execution_count": 1,
   "metadata": {},
   "outputs": [],
   "source": [
    "# add root folder to the path\n",
    "import sys\n",
    "sys.path.append('..')"
   ]
  },
  {
   "cell_type": "code",
   "execution_count": 2,
   "metadata": {},
   "outputs": [
    {
     "name": "stdout",
     "output_type": "stream",
     "text": [
      "TensorFlow:  2.6.0-dev20210503\n"
     ]
    }
   ],
   "source": [
    "import json\n",
    "import os\n",
    "from glob import glob\n",
    "from time import time\n",
    "\n",
    "import tensorflow as tf\n",
    "from tqdm.notebook import tqdm\n",
    "\n",
    "# import tensorrt as trt\n",
    "from retinanet.dataset_utils.coco_parser import CocoParser\n",
    "from retinanet.eval import COCOEvaluator\n",
    "from retinanet.image_utils import read_image, visualize_detections\n",
    "\n",
    "\n",
    "print('TensorFlow: ', tf.__version__)"
   ]
  },
  {
   "cell_type": "code",
   "execution_count": 3,
   "metadata": {},
   "outputs": [],
   "source": [
    "# Starting from tensorflow==2.5.0, TensorRT ignores the conversion of combined_nms op if number of anchors is more than 4096</br>\n",
    "# Setting`TF_TRT_ALLOW_NMS_TOPK_OVERRIDE=1` will allow TensorRT to run top_k filtering with k=4096 running NMS\n",
    "# refer https://github.com/tensorflow/tensorflow/issues/46453 and https://github.com/tensorflow/tensorflow/pull/47698\n",
    "\n",
    "os.environ['TF_TRT_ALLOW_NMS_TOPK_OVERRIDE'] = '1'"
   ]
  },
  {
   "cell_type": "code",
   "execution_count": 4,
   "metadata": {},
   "outputs": [],
   "source": [
    "# Setup a virtual GPU to emulate resource constraints, this cell is optional\n",
    "physical_devices = tf.config.list_physical_devices('GPU')\n",
    "\n",
    "tf.config.experimental.set_virtual_device_configuration(\n",
    "    physical_devices[0],\n",
    "    [tf.config.experimental.VirtualDeviceConfiguration(memory_limit=4000)])"
   ]
  },
  {
   "cell_type": "code",
   "execution_count": 5,
   "metadata": {},
   "outputs": [],
   "source": [
    "# Load TensorRT plugins, if running with TensorRT optimized model\n",
    "# trt.init_libnvinfer_plugins(None,'')"
   ]
  },
  {
   "cell_type": "code",
   "execution_count": 6,
   "metadata": {},
   "outputs": [],
   "source": [
    "#  Load label mapping\n",
    "with open('../coco_label_map.json', 'r') as f:\n",
    "    label_map = json.load(f)"
   ]
  },
  {
   "cell_type": "code",
   "execution_count": 7,
   "metadata": {},
   "outputs": [],
   "source": [
    "# Load `saved_model`\n",
    "model = tf.saved_model.load(\n",
    "    '../model_files/saved_models/mscoco-retinanet-resnet50-640x640-3x-256/')\n",
    "\n",
    "\n",
    "prepare_image_fn = model.signatures['prepare_image']  # get concrete function for preprocessing images\n",
    "serving_fn = model.signatures['serving_default']  # get concrete function for running the model"
   ]
  },
  {
   "cell_type": "code",
   "execution_count": 8,
   "metadata": {},
   "outputs": [
    {
     "name": "stdout",
     "output_type": "stream",
     "text": [
      "Found 5000 images in ../val2017\n"
     ]
    }
   ],
   "source": [
    "# Populate image paths\n",
    "\n",
    "image_dir = '../val2017'\n",
    "image_paths = sorted(glob(image_dir + '/*'))\n",
    "\n",
    "print('Found {} images in {}'.format(len(image_paths), image_dir))"
   ]
  },
  {
   "cell_type": "markdown",
   "metadata": {},
   "source": [
    "### Infernce on a single image"
   ]
  },
  {
   "cell_type": "code",
   "execution_count": 16,
   "metadata": {},
   "outputs": [
    {
     "name": "stdout",
     "output_type": "stream",
     "text": [
      "Inference time: 91.00 ms\n"
     ]
    }
   ],
   "source": [
    "idx = 4348\n",
    "image = read_image(image_paths[idx])\n",
    "serving_input = prepare_image_fn(image=image,\n",
    "                                 image_id=tf.constant([idx], dtype=tf.int32))\n",
    "tik = time()\n",
    "detections = serving_fn(**serving_input)\n",
    "toc = time()\n",
    "\n",
    "valid_detections = detections['valid_detections'][0].numpy()\n",
    "boxes = detections['boxes'][0][:valid_detections].numpy()\n",
    "classes = [\n",
    "    label_map[str(idx)]\n",
    "    for idx in detections['classes'][0][:valid_detections].numpy()\n",
    "]\n",
    "scores = detections['scores'][0][:valid_detections].numpy()\n",
    "\n",
    "#  Visualize detections\n",
    "visualize_detections(image,\n",
    "                     boxes,\n",
    "                     classes,\n",
    "                     scores,\n",
    "                     title='Image: {}'.format(idx),\n",
    "                     score_threshold=0.30,\n",
    "                     save=True,\n",
    "                     filename='image_{}.png'.format(idx))\n",
    "\n",
    "print('Inference time: {:.2f} ms'.format((toc - tik) * 1000))"
   ]
  },
  {
   "cell_type": "code",
   "execution_count": null,
   "metadata": {},
   "outputs": [
    {
     "name": "stdout",
     "output_type": "stream",
     "text": [
      "Processed 3581/5000 images | ETA: 137.7 secs | FPS(detection): 10.3/sec | forward_pass_with_nms: 0.097 ms | image_reading: 0.003 ms | image_preprocessing: 0.002 mss"
     ]
    }
   ],
   "source": [
    "fps = 1.0\n",
    "num_samples = len(image_paths)\n",
    "\n",
    "for idx, image_path in enumerate(image_paths):\n",
    "    t1 = time()\n",
    "    image = read_image(image_path)\n",
    "    t2 = time()\n",
    "    serving_input = prepare_image_fn(\n",
    "        image=image,\n",
    "        image_id=tf.constant(idx, dtype=tf.int32))\n",
    "    \n",
    "    t3 = time()\n",
    "    detections = serving_fn(**serving_input)\n",
    "    t4 = time()\n",
    "    \n",
    "    fps = 0.95 * fps + 0.05 * (1 / (t4 - t3))\n",
    "    eta = (num_samples - (idx + 1)) / fps\n",
    "\n",
    "    print(\n",
    "        '\\rProcessed {}/{} images | ETA: {:.2f} secs | FPS(detection): {:.1f}/sec | forward_pass_with_nms: {:.3f} ms | image_reading: {:.3f} ms | image_preprocessing: {:.3f} ms'\n",
    "        .format(idx + 1, len(image_paths), eta, fps, t4 - t3,\n",
    "                t2 - t1, t3 - t2),\n",
    "        end='')"
   ]
  },
  {
   "cell_type": "code",
   "execution_count": null,
   "metadata": {},
   "outputs": [],
   "source": []
  }
 ],
 "metadata": {
  "kernelspec": {
   "display_name": "Python 3",
   "language": "python",
   "name": "python3"
  },
  "language_info": {
   "codemirror_mode": {
    "name": "ipython",
    "version": 3
   },
   "file_extension": ".py",
   "mimetype": "text/x-python",
   "name": "python",
   "nbconvert_exporter": "python",
   "pygments_lexer": "ipython3",
   "version": "3.7.9"
  }
 },
 "nbformat": 4,
 "nbformat_minor": 4
}
